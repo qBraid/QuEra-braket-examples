{
 "cells": [
  {
   "cell_type": "markdown",
   "id": "07572f0c-6669-46ad-a8df-0cc1d56aef87",
   "metadata": {},
   "source": [
    "<h1 style=\"color:#D30982;\">qBraid Instructions</h1> \n",
    "\n",
    "- Activate **Bloqade** environment on qBraid (see [add kernel](https://docs.qbraid.com/en/latest/lab/notebooks.html#add-remove-kernels))\n",
    "- Select the `Python 3 [Bloqade]` kernel (see [switch kernel](https://docs.qbraid.com/en/latest/lab/notebooks.html#switch-notebook-kernel))"
   ]
  },
  {
   "cell_type": "code",
   "execution_count": 1,
   "id": "161d9acf-46e4-4b98-92db-e6fa2e6bd100",
   "metadata": {},
   "outputs": [],
   "source": [
    "import bloqade\n",
    "\n",
    "from bloqade import rydberg_h, unit_disk_graph"
   ]
  },
  {
   "cell_type": "code",
   "execution_count": 2,
   "id": "7795c6b2-998b-42b1-b411-8293493e8289",
   "metadata": {},
   "outputs": [
    {
     "name": "stdout",
     "output_type": "stream",
     "text": [
      "∑ 2π ⋅ 8.627e5.0/|x_i-x_j|^6 n_i n_j\n"
     ]
    }
   ],
   "source": [
    "h = rydberg_h([1, 2, 3])\n",
    "print(h)"
   ]
  }
 ],
 "metadata": {
  "kernelspec": {
   "display_name": "Python 3 [Bloqade]",
   "language": "python",
   "name": "python3_bloqade_374m88"
  },
  "language_info": {
   "codemirror_mode": {
    "name": "ipython",
    "version": 3
   },
   "file_extension": ".py",
   "mimetype": "text/x-python",
   "name": "python",
   "nbconvert_exporter": "python",
   "pygments_lexer": "ipython3",
   "version": "3.9.12"
  }
 },
 "nbformat": 4,
 "nbformat_minor": 5
}
